{
 "cells": [
  {
   "cell_type": "code",
   "execution_count": 1,
   "metadata": {},
   "outputs": [],
   "source": [
    "#!pip install opencv-python"
   ]
  },
  {
   "cell_type": "code",
   "execution_count": 1,
   "metadata": {},
   "outputs": [],
   "source": [
    "import cv2"
   ]
  },
  {
   "cell_type": "code",
   "execution_count": 2,
   "metadata": {},
   "outputs": [
    {
     "data": {
      "text/plain": [
       "'C:\\\\Users\\\\Junaid'"
      ]
     },
     "execution_count": 2,
     "metadata": {},
     "output_type": "execute_result"
    }
   ],
   "source": [
    "import os\n",
    "os.getcwd()"
   ]
  },
  {
   "cell_type": "code",
   "execution_count": 3,
   "metadata": {},
   "outputs": [],
   "source": [
    "#importing image\n",
    "img=cv2.imread(r'C:\\Users\\Junaid\\images\\bike.png')"
   ]
  },
  {
   "cell_type": "code",
   "execution_count": 4,
   "metadata": {},
   "outputs": [
    {
     "data": {
      "text/plain": [
       "array([[[255, 255, 255],\n",
       "        [255, 255, 255],\n",
       "        [255, 255, 255],\n",
       "        ...,\n",
       "        [255, 255, 255],\n",
       "        [255, 255, 255],\n",
       "        [255, 255, 255]],\n",
       "\n",
       "       [[255, 255, 255],\n",
       "        [255, 255, 255],\n",
       "        [255, 255, 255],\n",
       "        ...,\n",
       "        [255, 255, 255],\n",
       "        [255, 255, 255],\n",
       "        [255, 255, 255]],\n",
       "\n",
       "       [[255, 255, 255],\n",
       "        [255, 255, 255],\n",
       "        [255, 255, 255],\n",
       "        ...,\n",
       "        [255, 255, 255],\n",
       "        [255, 255, 255],\n",
       "        [255, 255, 255]],\n",
       "\n",
       "       ...,\n",
       "\n",
       "       [[255, 255, 255],\n",
       "        [255, 255, 255],\n",
       "        [255, 255, 255],\n",
       "        ...,\n",
       "        [255, 255, 255],\n",
       "        [255, 255, 255],\n",
       "        [255, 255, 255]],\n",
       "\n",
       "       [[255, 255, 255],\n",
       "        [255, 255, 255],\n",
       "        [255, 255, 255],\n",
       "        ...,\n",
       "        [255, 255, 255],\n",
       "        [255, 255, 255],\n",
       "        [255, 255, 255]],\n",
       "\n",
       "       [[255, 255, 255],\n",
       "        [255, 255, 255],\n",
       "        [255, 255, 255],\n",
       "        ...,\n",
       "        [255, 255, 255],\n",
       "        [255, 255, 255],\n",
       "        [255, 255, 255]]], dtype=uint8)"
      ]
     },
     "execution_count": 4,
     "metadata": {},
     "output_type": "execute_result"
    }
   ],
   "source": [
    "img"
   ]
  },
  {
   "cell_type": "code",
   "execution_count": 6,
   "metadata": {},
   "outputs": [],
   "source": [
    "# to show loaded image \n",
    "cv2.imshow(\"images\",img)  # (name of windows.imagename)\n",
    "\n",
    "cv2.waitKey(0)#means to press any key otherwise show image \n",
    "cv2.destroyAllWindows()"
   ]
  },
  {
   "cell_type": "code",
   "execution_count": 7,
   "metadata": {},
   "outputs": [
    {
     "data": {
      "text/plain": [
       "['bike.png',\n",
       " 'bike1.png',\n",
       " 'book1 (1).gif',\n",
       " 'crop_image.jpg',\n",
       " 'haarcascade_eye.xml',\n",
       " 'haarcascade_frontalface_default.xml',\n",
       " 'images1.jpg',\n",
       " 'images2.jpg',\n",
       " 'laptop.jpg',\n",
       " 'Mohammed Junaid.pdf',\n",
       " 'opencv_haarcascade_frontalface_default.xml at master · opencv_opencv · GitHub.html',\n",
       " 'opencv_haarcascade_frontalface_default.xml at master · opencv_opencv · GitHub.mhtml',\n",
       " 'opencv_haarcascade_frontalface_default.xml at master · opencv_opencv · GitHub_files',\n",
       " 'Rekha_in_2019 (1).jpg',\n",
       " 'Thumbs.db',\n",
       " 'v1.mp4']"
      ]
     },
     "execution_count": 7,
     "metadata": {},
     "output_type": "execute_result"
    }
   ],
   "source": [
    "#work on multiple images means run multiple images one by one similat to slides means ppt\n",
    "import os\n",
    "img_names=os.listdir('images') #c:\\user\\meena pandey\\images  here images is folder\n",
    "#to retrieve all image file from folder images and hold in list object img_names\n",
    "img_names"
   ]
  },
  {
   "cell_type": "code",
   "execution_count": null,
   "metadata": {},
   "outputs": [],
   "source": []
  },
  {
   "cell_type": "code",
   "execution_count": 8,
   "metadata": {},
   "outputs": [
    {
     "ename": "error",
     "evalue": "OpenCV(4.5.1) C:\\Users\\appveyor\\AppData\\Local\\Temp\\1\\pip-req-build-kh7iq4w7\\opencv\\modules\\imgproc\\src\\resize.cpp:4051: error: (-215:Assertion failed) !ssize.empty() in function 'cv::resize'\n",
     "output_type": "error",
     "traceback": [
      "\u001b[1;31m---------------------------------------------------------------------------\u001b[0m",
      "\u001b[1;31merror\u001b[0m                                     Traceback (most recent call last)",
      "\u001b[1;32m<ipython-input-8-bd1a86ca6651>\u001b[0m in \u001b[0;36m<module>\u001b[1;34m\u001b[0m\n\u001b[0;32m      1\u001b[0m \u001b[1;32mfor\u001b[0m \u001b[0mimg\u001b[0m \u001b[1;32min\u001b[0m \u001b[0mimg_names\u001b[0m\u001b[1;33m:\u001b[0m\u001b[1;33m\u001b[0m\u001b[1;33m\u001b[0m\u001b[0m\n\u001b[0;32m      2\u001b[0m     \u001b[0mimage\u001b[0m\u001b[1;33m=\u001b[0m\u001b[0mcv2\u001b[0m\u001b[1;33m.\u001b[0m\u001b[0mimread\u001b[0m\u001b[1;33m(\u001b[0m\u001b[0mimg\u001b[0m\u001b[1;33m)\u001b[0m\u001b[1;33m\u001b[0m\u001b[1;33m\u001b[0m\u001b[0m\n\u001b[1;32m----> 3\u001b[1;33m     \u001b[0mimage\u001b[0m\u001b[1;33m=\u001b[0m\u001b[0mcv2\u001b[0m\u001b[1;33m.\u001b[0m\u001b[0mresize\u001b[0m\u001b[1;33m(\u001b[0m\u001b[0mimage\u001b[0m\u001b[1;33m,\u001b[0m\u001b[1;33m(\u001b[0m\u001b[1;36m600\u001b[0m\u001b[1;33m,\u001b[0m\u001b[1;36m400\u001b[0m\u001b[1;33m)\u001b[0m\u001b[1;33m)\u001b[0m \u001b[1;31m#width=600 and height=400 passing in tuple\u001b[0m\u001b[1;33m\u001b[0m\u001b[1;33m\u001b[0m\u001b[0m\n\u001b[0m\u001b[0;32m      4\u001b[0m \u001b[1;33m\u001b[0m\u001b[0m\n\u001b[0;32m      5\u001b[0m \u001b[1;33m\u001b[0m\u001b[0m\n",
      "\u001b[1;31merror\u001b[0m: OpenCV(4.5.1) C:\\Users\\appveyor\\AppData\\Local\\Temp\\1\\pip-req-build-kh7iq4w7\\opencv\\modules\\imgproc\\src\\resize.cpp:4051: error: (-215:Assertion failed) !ssize.empty() in function 'cv::resize'\n"
     ]
    }
   ],
   "source": [
    "for img in img_names:\n",
    "    image=cv2.imread(img)\n",
    "    image=cv2.resize(image,(600,400)) #width=600 and height=400 passing in tuple\n",
    "    \n",
    "    \n",
    "    cv2.imshow('Images',image)\n",
    "    cv2.waitKey(1000)\n",
    "cv2.destroyAllWindows()"
   ]
  },
  {
   "cell_type": "code",
   "execution_count": null,
   "metadata": {},
   "outputs": [],
   "source": [
    "#Read the image from particular path \n",
    "filename=r\"C:\\Users\\Junaid\\Downloads\\pexels-ali-pazani-2772091.jpg\" #joint picture enhanced graphics(jpeg)\n",
    "img=cv2.imread(filename) #imread() means to read the image and img user defined object\n",
    "                        #img hold data in 2Dimensional array\n",
    "print(img.shape)\n",
    "img=cv2.resize(img,(600,500)) #resize() inbuilt method , to change the image size\n",
    "cv2.imshow(\"Title\",img)\n",
    "cv2.waitKey(0)\n",
    "cv2.destroyAllWindows()"
   ]
  },
  {
   "cell_type": "code",
   "execution_count": null,
   "metadata": {},
   "outputs": [],
   "source": [
    "#croping the image\n",
    "filename=r\"C:\\Users\\Junaid\\Downloads\\pexels-ali-pazani-2772091.jpg\" #joint picture enhanced graphics(jpeg)\n",
    "img=cv2.imread(filename)\n",
    "img=cv2.resize(img,(800,600)) \n",
    "print(\"Original Image\")\n",
    "cv2.imshow(\"Original Image\",img)\n",
    "#crop image : width (from:to) height[from:to]\n",
    "face=img[20:300,200:550] #height,width here face new user defined object\n",
    "print(\"After cropping image : \")\n",
    "cv2.imshow(\"After cropping image\",face)\n",
    "cv2.waitKey(0)\n",
    "cv2.destroyAllWindows()"
   ]
  },
  {
   "cell_type": "code",
   "execution_count": null,
   "metadata": {},
   "outputs": [],
   "source": [
    "#Create border of image : use inbuilt method copyMakeBorder() of cv2\n",
    "filename=r\"C:\\Users\\Junaid\\Downloads\\pexels-ali-pazani-2772091.jpg\" #joint picture enhanced graphics(jpeg)\n",
    "img=cv2.imread(filename)\n",
    "img=cv2.resize(img,(800,600)) \n",
    "print(\"Original Image\")\n",
    "cv2.imshow(\"Original Image\",img)\n",
    "#create a border \n",
    "border=cv2.copyMakeBorder(img,20,20,20,20,cv2.BORDER_CONSTANT)   \n",
    "#first para : image,top=20,bottom=20,left=20,right=20 next parameter : border style then next\n",
    "#parameter color (RGB : BGR 0-255)\n",
    "\n",
    "cv2.imshow(\"Create Border\",border)\n",
    "cv2.waitKey(0)\n",
    "cv2.destroyAllWindows()"
   ]
  },
  {
   "cell_type": "code",
   "execution_count": null,
   "metadata": {},
   "outputs": [],
   "source": [
    "# to CHANGE COLOR OF BORDER\n",
    "#Create border of image : use inbuilt method copyMakeBorder() of cv2\n",
    "filename=r\"C:\\Users\\Junaid\\Downloads\\pexels-ali-pazani-2772091.jpg\" #joint picture enhanced graphics(jpeg)\n",
    "img=cv2.imread(filename)\n",
    "img=cv2.resize(img,(800,600)) \n",
    "print(\"Original Image\")\n",
    "cv2.imshow(\"Original Image\",img)\n",
    "#create a border \n",
    "border=cv2.copyMakeBorder(img,20,20,20,20,cv2.BORDER_CONSTANT,value=[120,200,150])    \n",
    "#first para : image,top=20,bottom=20,left=20,right=20 next parameter : border style then next\n",
    "#parameter color (RGB : BGR 0-255)\n",
    "\n",
    "cv2.imshow(\"Create Border\",border)\n",
    "cv2.waitKey(0)\n",
    "cv2.destroyAllWindows()"
   ]
  },
  {
   "cell_type": "code",
   "execution_count": null,
   "metadata": {},
   "outputs": [],
   "source": [
    "# TO GET IMAGE IN GRAYSCALE\n",
    "filename=cv2.imread(r'C:\\Users\\Junaid\\images\\bike.png')\n",
    "img=cv2.imread(filename,0)\n",
    "img=cv2.resize(img,(800,600)) \n",
    "print(\"Original Image\")\n",
    "cv2.imshow(\"Grayscale Image\",img)\n",
    "cv2.waitKey(0)\n",
    "cv2.destroyAllWindows()"
   ]
  },
  {
   "cell_type": "code",
   "execution_count": null,
   "metadata": {},
   "outputs": [],
   "source": [
    "#Loading an image in grayscale mode\n",
    "filename=r\"C:\\Users\\Junaid\\images\\laptop.jpg\" #joint picture enhanced graphics(jpeg)\n",
    "img=cv2.imread(filename,0)   #0 means load image in grayscale and if not given 0 means original image\n",
    "#if no pass any parameter then load original image as it is\n",
    "img=cv2.resize(img,(800,600)) \n",
    "print(\"Original Image\")\n",
    "cv2.imshow(\"Grayscale Image\",img)\n",
    "cv2.waitKey(0)\n",
    "cv2.destroyAllWindows()"
   ]
  },
  {
   "cell_type": "code",
   "execution_count": null,
   "metadata": {},
   "outputs": [],
   "source": [
    "\n",
    "import cv2\n",
    "#to save image after cropping in new file then press s otherwise press esc (no save)\n",
    "filename=r\"C:\\Users\\Junaid\\Downloads\\pexels-ali-pazani-2772091.jpg\" #joint picture enhanced graphics(jpeg)\n",
    "img=cv2.imread(filename)\n",
    "img=cv2.resize(img,(800,600)) \n",
    "print(\"Original Image\")\n",
    "cv2.imshow(\"Original Image\",img)\n",
    "#crop image : width (from:to) height[from:to]\n",
    "face=img[20:300,200:550] #height,width here face new user defined object\n",
    "cv2.imshow(\"After cropping image\",face)\n",
    "k=cv2.waitKey(0) #wait for key and if press any key of keyboard then store ascii value of those keys\n",
    "print(\"please press esc if no save image and press s if save image\")\n",
    "if k==27:  #press esc key then exit means no save image after cropping . ascii of esc key=27\n",
    "    cv2.destroyAllWindows() #close the window\n",
    "elif k== ord('s') : #wait for  's' key to save  the cropping in new file\n",
    "    cv2.imwrite(r'C:\\Users\\Junaid\\images\\crop_image.jpg',face) #crop_image.jpg : new file name\n",
    "    cv2.destroyAllWindows()"
   ]
  },
  {
   "cell_type": "code",
   "execution_count": null,
   "metadata": {},
   "outputs": [],
   "source": [
    "#To write words and lines on image\n",
    "import cv2\n",
    "filename=r\"C:\\Users\\Junaid\\Downloads\\pexels-ali-pazani-2772091.jpg\" #joint picture enhanced graphics(jpeg)\n",
    "img=cv2.imread(filename)\n",
    "img=cv2.resize(img,(800,600))\n",
    "text=\"Model\"\n",
    "org=(150,100) #x means width and y means height\n",
    "font=cv2.FONT_HERSHEY_COMPLEX #font name\n",
    "fontScale=6 #font size\n",
    "color=(0,0,255) #BGR 0,0,0 means black\n",
    "thickness=3 #optional\n",
    "lineType=cv2.LINE_AA\n",
    "bottomLeftOrigin=False\n",
    "img_text=cv2.putText(img,text,org,font,fontScale,color,thickness,lineType,bottomLeftOrigin)\n",
    "cv2.imshow(\"Image_Text\",img_text)\n",
    "cv2.waitKey(0)\n",
    "cv2.destroyAllWindows()"
   ]
  },
  {
   "cell_type": "code",
   "execution_count": null,
   "metadata": {},
   "outputs": [],
   "source": [
    "#To get Refelction og text on image\n",
    "\n",
    "import cv2\n",
    "filename=r\"C:\\Users\\Junaid\\Downloads\\pexels-ali-pazani-2772091.jpg\" #joint picture enhanced graphics(jpeg)\n",
    "img=cv2.imread(filename)\n",
    "img=cv2.resize(img,(800,600))\n",
    "text=\"Model\"\n",
    "org=(150,100) #x means width and y means height\n",
    "font=cv2.FONT_HERSHEY_COMPLEX #font name\n",
    "fontScale=6 #font size\n",
    "color=(0,0,255) #BGR 0,0,0 means black\n",
    "thickness=3 #optional\n",
    "lineType=cv2.LINE_AA\n",
    "bottomLeftOrigin=False\n",
    "img_text=cv2.putText(img,text,org,font,fontScale,color,thickness,lineType,bottomLeftOrigin)\n",
    "cv2.imshow(\"Image_Text\",img_text)\n",
    "\n",
    "bottomLeftOrigin=True\n",
    "img_text=cv2.putText(img,text,org,font,fontScale,color,thickness,lineType,bottomLeftOrigin)\n",
    "cv2.imshow(\"Image_Text\",img_text)\n",
    "cv2.waitKey(0)\n",
    "cv2.destroyAllWindows()"
   ]
  },
  {
   "cell_type": "code",
   "execution_count": null,
   "metadata": {},
   "outputs": [],
   "source": [
    "# to ROtate Image we use rotate() method cv2\n",
    "#Rotate the image then use inbuilt function rotate() of cv2\n",
    "import cv2\n",
    "filename=r\"C:\\Users\\Junaid\\Downloads\\pexels-ali-pazani-2772091.jpg\" #joint picture enhanced graphics(jpeg)\n",
    "img=cv2.imread(filename)\n",
    "img=cv2.resize(img,(800,600))\n",
    "img1=cv2.rotate(img,cv2.ROTATE_90_CLOCKWISE)\n",
    "cv2.imshow(\"Rotate Image\",img1)\n",
    "cv2.waitKey(2000)\n",
    "img2=cv2.rotate(img,cv2.ROTATE_180)\n",
    "cv2.imshow(\"Rotate Image\",img2)\n",
    "\n",
    "cv2.waitKey(0)\n",
    "cv2.destroyAllWindows()"
   ]
  },
  {
   "cell_type": "code",
   "execution_count": null,
   "metadata": {},
   "outputs": [],
   "source": [
    "#Face DetectioN\n",
    "# There are 3 required files\n",
    "'''INSTAL python\n",
    "opencv library cv2\n",
    "haarcascade_frontalface_default.xml'''\n"
   ]
  },
  {
   "cell_type": "code",
   "execution_count": null,
   "metadata": {},
   "outputs": [],
   "source": [
    "import os\n",
    "os.getcwd()"
   ]
  },
  {
   "cell_type": "code",
   "execution_count": null,
   "metadata": {},
   "outputs": [],
   "source": [
    "import cv2"
   ]
  },
  {
   "cell_type": "code",
   "execution_count": null,
   "metadata": {},
   "outputs": [],
   "source": [
    "import cv2\n",
    "#To load images\n",
    "img=cv2.imread(r'images\\images2.jpg')\n",
    "face_cascade=cv2.CascadeClassifier(r'images\\haarcascade_frontalface_default.xml')\n",
    "faces=face_cascade.detectMultiScale(img) #detect face from original image and return pixelvalue \n",
    "#of all faces\n",
    "print(faces)"
   ]
  },
  {
   "cell_type": "code",
   "execution_count": null,
   "metadata": {},
   "outputs": [],
   "source": [
    "for (x,y,w,h) in faces:\n",
    "    cv2.rectangle(img,(x,y),(x+w,y+h),(0,0,255),3) \n",
    "    #rectangle(source image,(x,y),(x+w,y+h),color BGR 0-255,thichness)\n",
    "    #we pass 5 parameters in rectangle function\n",
    "\n",
    "#to visualise the image with face detect\n",
    "cv2.imshow(\"Images\",img)\n",
    "cv2.waitKey(0)\n",
    "cv2.destroyAllWindows()"
   ]
  },
  {
   "cell_type": "code",
   "execution_count": null,
   "metadata": {},
   "outputs": [],
   "source": [
    "#To face detect Live means with the help of webcam means camera\n",
    "import cv2\n",
    "cap=cv2.VideoCapture(0)  \n",
    "face_cascade=cv2.CascadeClassifier(r'images\\haarcascade_frontalface_default.xml')\n",
    "while True:\n",
    "    ret,img=cap.read() \n",
    "    faces=face_cascade.detectMultiScale(img) #detect face from original image and return pixelvalue \n",
    "     #of all faces\n",
    "    print(faces)\n",
    "    for (x,y,w,h) in faces:\n",
    "        cv2.rectangle(img,(x,y),(x+w,y+h),(0,0,255),3) \n",
    "    cv2.imshow(\"Images\",img)\n",
    "    if cv2.waitKey(1)==27 : #ascii code of escape key\n",
    "        break #exit from loop\n",
    "        \n",
    "cap.release()\n",
    "cv2.destroyAllWindows()"
   ]
  },
  {
   "cell_type": "code",
   "execution_count": null,
   "metadata": {},
   "outputs": [],
   "source": [
    "#Eye detect from given image\n",
    "import cv2\n",
    "\n",
    "image = cv2.imread(r'images\\Rekha_in_2019.jpg')\n",
    "eye_cascade = cv2.CascadeClassifier(r'images\\haarcascade_eye.xml')\n",
    "eyes = eye_cascade.detectMultiScale(image, scaleFactor = 1.1, minNeighbors = 5)\n",
    "print(eyes) \n",
    "\n",
    "for (x,y,w,h) in eyes:\n",
    "            cv2.rectangle(image,(x,y),(x+w,y+h),(255,0,0),5)\n",
    " \n",
    "cv2.imshow(\"Eye Detected\", image)\n",
    "cv2.waitKey(0)\n",
    "cv2.destroyAllWindows()"
   ]
  },
  {
   "cell_type": "code",
   "execution_count": null,
   "metadata": {},
   "outputs": [],
   "source": [
    "import cv2\n",
    "\n",
    "#create the object of codec\n",
    "fourcc=cv2.VideoWriter_fourcc(*\"MJPG\")\n",
    "#out=cv2.VideoWriter(\"permanent video file.avi\",object of codec,speed : 20.0 or 30.0,(screen_size))\n",
    "#screen_size=(h,w)\n",
    "filename=r\"images\\v1.mp4\" #which want to save\n",
    "out=cv2.VideoWriter(filename,fourcc,20.0,(600,480)) #save video this file\n",
    "\n",
    "cap = cv2.VideoCapture(0)\n",
    "while(cap.isOpened()): #check is camera is on if on then\n",
    "    ret, frame = cap.read() #to load frames from camera \n",
    "    #ret hold True /False\n",
    "    \n",
    "    \n",
    "if ret==True:\n",
    "    \n",
    "        #frame = cv2.flip(frame,0)\n",
    "         # write the flipped frame\n",
    "\n",
    "    out.write(frame)\n",
    "    cv2.imshow('frame',frame)\n",
    "    if cv2.waitKey(1) & 0xFF == ord('q'):\n",
    "        break\n",
    "    else:\n",
    "        break  \n",
    "        \n",
    "# Release everything if job is finished\n",
    "\n",
    "cap.release()\n",
    "out.release()\n",
    "cv2.waitKey(0) \n",
    "cv2.destroyAllWindows()"
   ]
  },
  {
   "cell_type": "code",
   "execution_count": null,
   "metadata": {},
   "outputs": [],
   "source": []
  }
 ],
 "metadata": {
  "kernelspec": {
   "display_name": "Python 3",
   "language": "python",
   "name": "python3"
  },
  "language_info": {
   "codemirror_mode": {
    "name": "ipython",
    "version": 3
   },
   "file_extension": ".py",
   "mimetype": "text/x-python",
   "name": "python",
   "nbconvert_exporter": "python",
   "pygments_lexer": "ipython3",
   "version": "3.8.3"
  }
 },
 "nbformat": 4,
 "nbformat_minor": 4
}
