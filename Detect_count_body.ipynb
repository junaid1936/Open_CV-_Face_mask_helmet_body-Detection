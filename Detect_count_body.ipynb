{
 "cells": [
  {
   "cell_type": "code",
   "execution_count": 25,
   "metadata": {},
   "outputs": [],
   "source": [
    "#1. Importing Libraries\n",
    "import numpy as np\n",
    "\n",
    "import cv2\n",
    "\n"
   ]
  },
  {
   "cell_type": "code",
   "execution_count": 13,
   "metadata": {},
   "outputs": [],
   "source": []
  },
  {
   "cell_type": "code",
   "execution_count": 48,
   "metadata": {},
   "outputs": [],
   "source": [
    "#3. Reading Image and Gray Scale Conversion\n",
    "frame = cv2.imread(r'C:\\Users\\Junaid\\images\\body_count.jpg')  \n",
    "\n",
    "gray = cv2.cvtColor(frame, cv2.COLOR_BGR2GRAY) \n",
    "\n",
    "\n",
    "cv2.imshow(\"Images\",frame)\n",
    "cv2.imshow('gray',gray)\n",
    "cv2.waitKey(0)\n",
    "cv2.destroyAllWindows()\n",
    "\n",
    "\n",
    "\n"
   ]
  },
  {
   "cell_type": "code",
   "execution_count": 49,
   "metadata": {},
   "outputs": [],
   "source": [
    "#2.  Loading Pre-Trained Model \n",
    "body_classifier = cv2.CascadeClassifier(r'C:\\Users\\Junaid\\images\\haarcascade_fullbody.xml')"
   ]
  },
  {
   "cell_type": "code",
   "execution_count": 50,
   "metadata": {},
   "outputs": [
    {
     "name": "stdout",
     "output_type": "stream",
     "text": [
      "[[ 436   15  168  336]\n",
      " [  10   18  182  363]\n",
      " [ 678  103  166  332]\n",
      " [ 894  106  164  327]\n",
      " [1101   40  161  321]\n",
      " [ 482  588  137  273]\n",
      " [1106  886  180  359]\n",
      " [ 225  867  197  394]\n",
      " [  20  927  173  345]\n",
      " [ 661  872  204  407]\n",
      " [ 865  842  205  409]\n",
      " [ 528 1098   38   76]\n",
      " [ 262  303   52  105]\n",
      " [ 889  454  155  310]\n",
      " [ 226  434  196  393]\n",
      " [ 659  416  197  395]]\n"
     ]
    }
   ],
   "source": [
    " #4. Extracting Bounding Boxes\n",
    "bodies = body_classifier.detectMultiScale(gray)   \n",
    "\n",
    "# 1.2 is the scale factor\n",
    "\n",
    "# 3 is the minNeighbors\n",
    "\n",
    "print(bodies)    "
   ]
  },
  {
   "cell_type": "code",
   "execution_count": 51,
   "metadata": {},
   "outputs": [
    {
     "name": "stdout",
     "output_type": "stream",
     "text": [
      "Total No. of person :  16\n"
     ]
    }
   ],
   "source": [
    "#5. Drawing Rectangle around detected bodies. \n",
    "i=0\n",
    "for (x,y,w,h) in bodies:\n",
    "    cv2.rectangle(frame,(x,y),(x+w,y+h),(0,0,255),2)\n",
    "    i=i+1  #increment counter variable  \n",
    "     # Display the box and faces\n",
    "    cv2.putText(frame, 'Person: '+str(i), (x-20, y-20),cv2.FONT_HERSHEY_SIMPLEX, 0.7, (0, 255, 0), 2)\n",
    "print(\"Total No. of person : \",i)\n"
   ]
  },
  {
   "cell_type": "code",
   "execution_count": 52,
   "metadata": {},
   "outputs": [],
   "source": [
    "#6. Displaying Images\n",
    "cv2.imshow('Humans',frame)\n",
    "\n",
    "cv2.waitKey()\n",
    "\n",
    "cv2.destroyAllWindows()"
   ]
  },
  {
   "cell_type": "code",
   "execution_count": 53,
   "metadata": {},
   "outputs": [
    {
     "name": "stdout",
     "output_type": "stream",
     "text": [
      "[[ 436   15  168  336]\n",
      " [  10   18  182  363]\n",
      " [ 678  103  166  332]\n",
      " [ 894  106  164  327]\n",
      " [1101   40  161  321]\n",
      " [ 482  588  137  273]\n",
      " [ 225  867  197  394]\n",
      " [ 865  842  205  409]\n",
      " [1106  886  180  359]\n",
      " [  20  927  173  345]\n",
      " [ 661  872  204  407]\n",
      " [ 528 1098   38   76]\n",
      " [ 262  303   52  105]\n",
      " [ 889  454  155  310]\n",
      " [ 226  434  196  393]\n",
      " [ 659  416  197  395]]\n",
      "[[ 436   15  168  336]\n",
      " [  10   18  182  363]\n",
      " [ 678  103  166  332]\n",
      " [ 894  106  164  327]\n",
      " [1101   40  161  321]\n",
      " [ 482  588  137  273]\n",
      " [1106  886  180  359]\n",
      " [ 225  867  197  394]\n",
      " [  20  927  173  345]\n",
      " [ 661  872  204  407]\n",
      " [ 865  842  205  409]\n",
      " [ 528 1098   38   76]\n",
      " [ 262  303   52  105]\n",
      " [ 659  416  197  395]\n",
      " [ 226  434  196  393]\n",
      " [ 889  454  155  310]]\n",
      "[[ 436   15  168  336]\n",
      " [  10   18  182  363]\n",
      " [ 678  103  166  332]\n",
      " [ 894  106  164  327]\n",
      " [1101   40  161  321]\n",
      " [ 482  588  137  273]\n",
      " [1106  886  180  359]\n",
      " [ 225  867  197  394]\n",
      " [  20  927  173  345]\n",
      " [ 661  872  204  407]\n",
      " [ 865  842  205  409]\n",
      " [ 528 1098   38   76]\n",
      " [ 262  303   52  105]\n",
      " [ 889  454  155  310]\n",
      " [ 226  434  196  393]\n",
      " [ 659  416  197  395]]\n",
      "[[ 436   15  168  336]\n",
      " [  10   18  182  363]\n",
      " [ 678  103  166  332]\n",
      " [ 894  106  164  327]\n",
      " [ 482  588  137  273]\n",
      " [1101   40  161  321]\n",
      " [1106  886  180  359]\n",
      " [ 225  867  197  394]\n",
      " [  20  927  173  345]\n",
      " [ 661  872  204  407]\n",
      " [ 865  842  205  409]\n",
      " [ 528 1098   38   76]\n",
      " [ 262  303   52  105]\n",
      " [ 889  454  155  310]\n",
      " [ 226  434  196  393]\n",
      " [ 659  416  197  395]]\n"
     ]
    },
    {
     "ename": "KeyboardInterrupt",
     "evalue": "",
     "output_type": "error",
     "traceback": [
      "\u001b[1;31m---------------------------------------------------------------------------\u001b[0m",
      "\u001b[1;31mKeyboardInterrupt\u001b[0m                         Traceback (most recent call last)",
      "\u001b[1;32m<ipython-input-53-da496ee46c94>\u001b[0m in \u001b[0;36m<module>\u001b[1;34m\u001b[0m\n\u001b[0;32m      2\u001b[0m \u001b[1;32mwhile\u001b[0m \u001b[1;32mTrue\u001b[0m\u001b[1;33m:\u001b[0m\u001b[1;33m\u001b[0m\u001b[1;33m\u001b[0m\u001b[0m\n\u001b[0;32m      3\u001b[0m     \u001b[0mret\u001b[0m\u001b[1;33m,\u001b[0m\u001b[0mimg\u001b[0m\u001b[1;33m=\u001b[0m\u001b[0mcap\u001b[0m\u001b[1;33m.\u001b[0m\u001b[0mread\u001b[0m\u001b[1;33m(\u001b[0m\u001b[1;33m)\u001b[0m\u001b[1;33m\u001b[0m\u001b[1;33m\u001b[0m\u001b[0m\n\u001b[1;32m----> 4\u001b[1;33m     \u001b[0mbodies\u001b[0m \u001b[1;33m=\u001b[0m \u001b[0mbody_classifier\u001b[0m\u001b[1;33m.\u001b[0m\u001b[0mdetectMultiScale\u001b[0m\u001b[1;33m(\u001b[0m\u001b[0mgray\u001b[0m\u001b[1;33m)\u001b[0m\u001b[1;33m\u001b[0m\u001b[1;33m\u001b[0m\u001b[0m\n\u001b[0m\u001b[0;32m      5\u001b[0m     \u001b[0mprint\u001b[0m\u001b[1;33m(\u001b[0m\u001b[0mbodies\u001b[0m\u001b[1;33m)\u001b[0m\u001b[1;33m\u001b[0m\u001b[1;33m\u001b[0m\u001b[0m\n\u001b[0;32m      6\u001b[0m     \u001b[1;32mfor\u001b[0m \u001b[1;33m(\u001b[0m\u001b[0mx\u001b[0m\u001b[1;33m,\u001b[0m\u001b[0my\u001b[0m\u001b[1;33m,\u001b[0m\u001b[0mw\u001b[0m\u001b[1;33m,\u001b[0m\u001b[0mh\u001b[0m\u001b[1;33m)\u001b[0m \u001b[1;32min\u001b[0m \u001b[0mbodies\u001b[0m\u001b[1;33m:\u001b[0m\u001b[1;33m\u001b[0m\u001b[1;33m\u001b[0m\u001b[0m\n",
      "\u001b[1;31mKeyboardInterrupt\u001b[0m: "
     ]
    }
   ],
   "source": [
    "\n",
    "\n",
    "cap=cv2.VideoCapture(0)\n",
    "while True:\n",
    "    ret,img=cap.read()\n",
    "    bodies = body_classifier.detectMultiScale(gray) \n",
    "    print(bodies)\n",
    "    for (x,y,w,h) in bodies:\n",
    "        cv2.rectangle(frame,(x,y),(x+w,y+h),(0,0,255),2)\n",
    "    cv2.imshow('Image',frame)\n",
    "    if cv2.waitKey(0)==27 :\n",
    "        break\n",
    "        \n",
    "cap.release()\n",
    "cv2.destroyAllWindows()"
   ]
  },
  {
   "cell_type": "code",
   "execution_count": null,
   "metadata": {},
   "outputs": [],
   "source": []
  }
 ],
 "metadata": {
  "kernelspec": {
   "display_name": "Python 3",
   "language": "python",
   "name": "python3"
  },
  "language_info": {
   "codemirror_mode": {
    "name": "ipython",
    "version": 3
   },
   "file_extension": ".py",
   "mimetype": "text/x-python",
   "name": "python",
   "nbconvert_exporter": "python",
   "pygments_lexer": "ipython3",
   "version": "3.8.3"
  }
 },
 "nbformat": 4,
 "nbformat_minor": 5
}
