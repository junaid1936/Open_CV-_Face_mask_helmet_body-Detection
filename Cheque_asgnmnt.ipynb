{
 "cells": [
  {
   "cell_type": "code",
   "execution_count": 3,
   "metadata": {},
   "outputs": [
    {
     "data": {
      "text/plain": [
       "'write a Code to extract given image text images like (you can take any of your choice cheque images with good resolution) \\nCheque Number \\nIFSC code \\nDate of check \\nAccount Number \\nstore all above details into a CSV file '"
      ]
     },
     "execution_count": 3,
     "metadata": {},
     "output_type": "execute_result"
    }
   ],
   "source": [
    "'''write a Code to extract given image text images like (you can take any of your choice cheque images with good resolution) \n",
    "Cheque Number \n",
    "IFSC code \n",
    "Date of check \n",
    "Account Number \n",
    "store all above details into a CSV file '''"
   ]
  },
  {
   "cell_type": "code",
   "execution_count": 7,
   "metadata": {},
   "outputs": [
    {
     "name": "stdout",
     "output_type": "stream",
     "text": [
      "Account No. :  3000201010884 1\n"
     ]
    }
   ],
   "source": [
    "import numpy as np\n",
    "import pytesseract\n",
    "import cv2\n",
    "\n",
    "pytesseract.pytesseract.tesseract_cmd = r'C:\\Program Files (x86)\\Tesseract-OCR\\tesseract.exe'\n",
    "\n",
    "\n",
    "#C:\\Users\\Junaid\\images\n",
    "\n",
    "image = cv2.imread(r'C:\\Users\\Junaid\\images\\cheque.png')\n",
    "cv2.imshow('Original Image ', image)\n",
    "cv2.waitKey()\n",
    "cv2.destroyAllWindows()\n",
    "hsv = cv2.cvtColor(image, cv2.COLOR_BGR2HSV)\n",
    "lower = np.array([103,79,60])\n",
    "upper = np.array([129,255,255])\n",
    "mask = cv2.inRange(hsv, lower, upper)\n",
    "\n",
    "cnts = cv2.findContours(mask, cv2.RETR_EXTERNAL, cv2.CHAIN_APPROX_SIMPLE)\n",
    "cnts = cnts[0] if len(cnts) == 2 else cnts[1]\n",
    "for c in cnts:\n",
    "    area = cv2.contourArea(c)\n",
    "    if area < 10:\n",
    "        cv2.drawContours(mask, [c], -1, (0,0,0), -1)\n",
    "\n",
    "mask = 255 - mask\n",
    "mask = cv2.GaussianBlur(mask, (3,3), 0)\n",
    "\n",
    "ano = pytesseract.image_to_string(mask, lang='eng',config='--psm 6')\n",
    "\n",
    "ano=ano.split('\\n')\n",
    "\n",
    "a=ano[0]\n",
    "print(\"Account No. : \",a)\n",
    "cv2.imshow('mask', mask)\n",
    "cv2.waitKey()\n",
    "cv2.destroyAllWindows()"
   ]
  },
  {
   "cell_type": "code",
   "execution_count": 9,
   "metadata": {},
   "outputs": [
    {
     "name": "stdout",
     "output_type": "stream",
     "text": [
      "IFSC Code :  SYNBO003011\n",
      "Cheque No. :  290062083654\n"
     ]
    }
   ],
   "source": [
    "#import pytesseract\n",
    "#import cv2\n",
    "import re\n",
    "im = cv2.imread(r'C:\\Users\\Junaid\\images\\cheque.png')\n",
    "pytesseract.pytesseract.tesseract_cmd = r'C:\\Program Files (x86)\\Tesseract-OCR\\tesseract.exe'\n",
    "#im = cv2.cvtColor(image, cv2.COLOR_BGR2GRAY)\n",
    "# configurations\n",
    "config = ('-l eng --oem 1 --psm 3')\n",
    "# pytessercat\n",
    "text = pytesseract.image_to_string(im, config=config)\n",
    "# print text\n",
    "text = text.split('\\n')\n",
    "\n",
    "#print(text)\n",
    "for i in text:\n",
    "    x = re.search(\"IFSC*\", i)\n",
    "\n",
    "    if x:\n",
    "        x = i.split(\"(\")\n",
    "        y= x[0].split(\":\")\n",
    "        \n",
    "x1=y[1].lstrip().rstrip()\n",
    "print(\"IFSC Code : \",x1)\n",
    "for i in text:\n",
    "    x = re.search(\"SAN*\", i)\n",
    "\n",
    "    if x:\n",
    "        y= i.split(\":\")\n",
    "        x=y[1].lstrip()\n",
    "        \n",
    "x=y[1].lstrip()\n",
    "print(\"Cheque No. : \",x)        "
   ]
  },
  {
   "cell_type": "code",
   "execution_count": 11,
   "metadata": {
    "scrolled": false
   },
   "outputs": [
    {
     "data": {
      "text/html": [
       "<div>\n",
       "<style scoped>\n",
       "    .dataframe tbody tr th:only-of-type {\n",
       "        vertical-align: middle;\n",
       "    }\n",
       "\n",
       "    .dataframe tbody tr th {\n",
       "        vertical-align: top;\n",
       "    }\n",
       "\n",
       "    .dataframe thead th {\n",
       "        text-align: right;\n",
       "    }\n",
       "</style>\n",
       "<table border=\"1\" class=\"dataframe\">\n",
       "  <thead>\n",
       "    <tr style=\"text-align: right;\">\n",
       "      <th></th>\n",
       "      <th>Account_No</th>\n",
       "      <th>IFSC_Code</th>\n",
       "      <th>Cheque_No</th>\n",
       "    </tr>\n",
       "  </thead>\n",
       "  <tbody>\n",
       "    <tr>\n",
       "      <th>0</th>\n",
       "      <td>3000201010884 1</td>\n",
       "      <td>SYNBO003011</td>\n",
       "      <td>290062083654</td>\n",
       "    </tr>\n",
       "  </tbody>\n",
       "</table>\n",
       "</div>"
      ],
      "text/plain": [
       "        Account_No    IFSC_Code     Cheque_No\n",
       "0  3000201010884 1  SYNBO003011  290062083654"
      ]
     },
     "execution_count": 11,
     "metadata": {},
     "output_type": "execute_result"
    }
   ],
   "source": [
    "import pandas as pd\n",
    "#Create Dictionary\n",
    "dict={'Account_No':a,'IFSC_Code':x1,'Cheque_No':x}\n",
    "\n",
    "df = pd.DataFrame([dict])\n",
    "df"
   ]
  },
  {
   "cell_type": "code",
   "execution_count": 12,
   "metadata": {},
   "outputs": [],
   "source": [
    "df.to_csv('Cheque_details.csv',index=False, encoding='utf-8')"
   ]
  },
  {
   "cell_type": "code",
   "execution_count": 14,
   "metadata": {},
   "outputs": [
    {
     "data": {
      "text/html": [
       "<div>\n",
       "<style scoped>\n",
       "    .dataframe tbody tr th:only-of-type {\n",
       "        vertical-align: middle;\n",
       "    }\n",
       "\n",
       "    .dataframe tbody tr th {\n",
       "        vertical-align: top;\n",
       "    }\n",
       "\n",
       "    .dataframe thead th {\n",
       "        text-align: right;\n",
       "    }\n",
       "</style>\n",
       "<table border=\"1\" class=\"dataframe\">\n",
       "  <thead>\n",
       "    <tr style=\"text-align: right;\">\n",
       "      <th></th>\n",
       "      <th>Account_No</th>\n",
       "      <th>IFSC_Code</th>\n",
       "      <th>Cheque_No</th>\n",
       "    </tr>\n",
       "  </thead>\n",
       "  <tbody>\n",
       "    <tr>\n",
       "      <th>0</th>\n",
       "      <td>3000201010884 1</td>\n",
       "      <td>SYNBO003011</td>\n",
       "      <td>290062083654</td>\n",
       "    </tr>\n",
       "  </tbody>\n",
       "</table>\n",
       "</div>"
      ],
      "text/plain": [
       "        Account_No    IFSC_Code     Cheque_No\n",
       "0  3000201010884 1  SYNBO003011  290062083654"
      ]
     },
     "execution_count": 14,
     "metadata": {},
     "output_type": "execute_result"
    }
   ],
   "source": [
    "df=pd.read_csv('Cheque_details.csv')\n",
    "df"
   ]
  },
  {
   "cell_type": "code",
   "execution_count": null,
   "metadata": {},
   "outputs": [],
   "source": []
  }
 ],
 "metadata": {
  "kernelspec": {
   "display_name": "Python 3",
   "language": "python",
   "name": "python3"
  },
  "language_info": {
   "codemirror_mode": {
    "name": "ipython",
    "version": 3
   },
   "file_extension": ".py",
   "mimetype": "text/x-python",
   "name": "python",
   "nbconvert_exporter": "python",
   "pygments_lexer": "ipython3",
   "version": "3.8.3"
  }
 },
 "nbformat": 4,
 "nbformat_minor": 5
}
